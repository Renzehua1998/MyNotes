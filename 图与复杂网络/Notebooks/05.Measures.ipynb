{
 "cells": [
  {
   "cell_type": "code",
   "execution_count": 1,
   "metadata": {},
   "outputs": [],
   "source": [
    "import igraph as ig\n",
    "import numpy as np\n",
    "from sklearn.metrics import adjusted_rand_score as ARI\n",
    "from sklearn.metrics import normalized_mutual_info_score as NMI\n",
    "from sklearn.metrics import adjusted_mutual_info_score as AMI\n",
    "import scipy.stats as ss\n",
    "import pandas as pd\n",
    "\n",
    "def community_ecg(self, weights=None, ens_size=32, min_weight=0.05):\n",
    "    W = [0]*self.ecount()\n",
    "    ## Ensemble of level-1 Louvain \n",
    "    for i in range(ens_size):\n",
    "        p = np.random.permutation(self.vcount()).tolist()\n",
    "        g = self.permute_vertices(p)\n",
    "        l = g.community_multilevel(weights=weights, return_levels=True)[0].membership\n",
    "        b = [l[p[x.tuple[0]]]==l[p[x.tuple[1]]] for x in self.es]\n",
    "        W = [W[i]+b[i] for i in range(len(W))]\n",
    "    W = [min_weight + (1-min_weight)*W[i]/ens_size for i in range(len(W))]\n",
    "    part = self.community_multilevel(weights=W)\n",
    "    ## Force min_weight outside 2-core\n",
    "    core = self.shell_index()\n",
    "    ecore = [min(core[x.tuple[0]],core[x.tuple[1]]) for x in self.es]\n",
    "    part.W = [W[i] if ecore[i]>1 else min_weight for i in range(len(ecore))]\n",
    "    return part\n",
    "\n",
    "ig.Graph.community_ecg = community_ecg\n",
    "\n",
    "def readGraph(fn, directed=False):\n",
    "    g = ig.Graph.Read_Ncol(fn+'.edgelist',directed=directed)\n",
    "    c = np.loadtxt(fn+'.community',dtype='uint8')\n",
    "    node_base = min([int(x['name']) for x in g.vs]) ## graphs have 1-based or 0-based nodes \n",
    "    comm_base = min(c) ## same for communities\n",
    "    comm = [c[int(x['name'])-node_base]-comm_base for x in g.vs]\n",
    "    g.vs['community'] = comm\n",
    "    g.vs['shape'] = 'circle'\n",
    "    pal = ig.RainbowPalette(n=max(comm)+1)\n",
    "    g.vs['color'] = [pal.get(int(i)) for i in comm]\n",
    "    g.vs['size'] = 10\n",
    "    g.es['width'] = 1\n",
    "    return g"
   ]
  },
  {
   "cell_type": "code",
   "execution_count": 2,
   "metadata": {},
   "outputs": [],
   "source": [
    "def edgeLabels(g, gcomm):\n",
    "    x = [(gcomm[x.tuple[0]]==gcomm[x.tuple[1]]) for x in g.es]\n",
    "    return x\n",
    "def AGRI(g, u, v):\n",
    "    bu = edgeLabels(g, u)\n",
    "    bv = edgeLabels(g, v)\n",
    "    su = np.sum(bu)\n",
    "    sv = np.sum(bv)\n",
    "    suv = np.sum(np.array(bu)*np.array(bv))\n",
    "    m = len(bu)\n",
    "    return((suv-su*sv/m) / (0.5*(su+sv)- su*sv/m))\n",
    "    #return suv/(0.5*(su+sv))\n"
   ]
  },
  {
   "cell_type": "markdown",
   "metadata": {},
   "source": [
    "## ARI, AGRI"
   ]
  },
  {
   "cell_type": "code",
   "execution_count": 3,
   "metadata": {},
   "outputs": [
    {
     "name": "stdout",
     "output_type": "stream",
     "text": [
      "70 communities\n"
     ]
    }
   ],
   "source": [
    "## large graph with mu = .48\n",
    "g = readGraph('Data/LFR8916/lfr8916')\n",
    "g = g.simplify()\n",
    "print(1+np.max(g.vs['community']),'communities')"
   ]
  },
  {
   "cell_type": "code",
   "execution_count": 4,
   "metadata": {},
   "outputs": [
    {
     "name": "stdout",
     "output_type": "stream",
     "text": [
      "102 communities\n",
      "level 0 ARI: 0.8434987008143773\n",
      "level 0 AGRI: 0.972409050048011\n",
      "level 0 NMI: 0.9468717129914092\n",
      "\n",
      "37 communities\n",
      "last level ARI: 0.8235488074207655\n",
      "last level AGRI: 0.9910410645710926\n",
      "last level NMI: 0.9215646126382893\n"
     ]
    },
    {
     "name": "stderr",
     "output_type": "stream",
     "text": [
      "e:\\Anaconda3\\lib\\site-packages\\ipykernel_launcher.py:11: RuntimeWarning: overflow encountered in long_scalars\n",
      "  # This is added back by InteractiveShellApp.init_path()\n"
     ]
    }
   ],
   "source": [
    "ml = g.community_multilevel(return_levels=True)\n",
    "l = len(ml)-1\n",
    "\n",
    "print(1+np.max(ml[0].membership),'communities')\n",
    "print('level 0 ARI:',ARI(g.vs['community'],ml[0].membership))\n",
    "print('level 0 AGRI:',AGRI(g,g.vs['community'],ml[0].membership))\n",
    "print('level 0 NMI:',NMI(g.vs['community'],ml[0].membership))\n",
    "\n",
    "print('')\n",
    "\n",
    "print(1+np.max(ml[1].membership),'communities')\n",
    "print('last level ARI:',ARI(g.vs['community'],ml[l].membership))\n",
    "print('last level AGRI:',AGRI(g,g.vs['community'],ml[l].membership))\n",
    "print('last level NMI:',NMI(g.vs['community'],ml[l].membership))\n"
   ]
  },
  {
   "cell_type": "code",
   "execution_count": 5,
   "metadata": {},
   "outputs": [
    {
     "name": "stdout",
     "output_type": "stream",
     "text": [
      "228 communities\n",
      "ARI: 0.9000572961391778\n",
      "AGRI: 0.9625859361111697\n",
      "NMI: 0.9268505130853201\n"
     ]
    }
   ],
   "source": [
    "im = g.community_infomap()\n",
    "print(1+np.max(im.membership),'communities')\n",
    "print('ARI:',ARI(g.vs['community'],im.membership))\n",
    "print('AGRI:',AGRI(g,g.vs['community'],im.membership))\n",
    "print('NMI:',NMI(g.vs['community'],im.membership))\n"
   ]
  },
  {
   "cell_type": "code",
   "execution_count": 6,
   "metadata": {},
   "outputs": [
    {
     "name": "stdout",
     "output_type": "stream",
     "text": [
      "62 communities\n",
      "ARI: 0.977030082391335\n",
      "AGRI: 0.9933589906175931\n",
      "NMI: 0.9826046683785997\n"
     ]
    }
   ],
   "source": [
    "ec = g.community_ecg()\n",
    "print(1+np.max(ec.membership),'communities')\n",
    "print('ARI:',ARI(g.vs['community'],ec.membership))\n",
    "print('AGRI:',AGRI(g,g.vs['community'],ec.membership))\n",
    "print('NMI:',NMI(g.vs['community'],ec.membership))\n"
   ]
  },
  {
   "cell_type": "code",
   "execution_count": 7,
   "metadata": {},
   "outputs": [
    {
     "name": "stdout",
     "output_type": "stream",
     "text": [
      "1 communities\n",
      "ARI: 0.0\n",
      "AGRI: 0.6918635409083514\n",
      "NMI: 0.0\n"
     ]
    },
    {
     "name": "stderr",
     "output_type": "stream",
     "text": [
      "e:\\Anaconda3\\lib\\site-packages\\ipykernel_launcher.py:11: RuntimeWarning: overflow encountered in long_scalars\n",
      "  # This is added back by InteractiveShellApp.init_path()\n"
     ]
    }
   ],
   "source": [
    "lp = g.community_label_propagation() ## highly variable\n",
    "print(1+np.max(lp.membership),'communities')\n",
    "print('ARI:',ARI(g.vs['community'],lp.membership))\n",
    "print('AGRI:',AGRI(g,g.vs['community'],lp.membership))\n",
    "print('NMI:',NMI(g.vs['community'],lp.membership))\n"
   ]
  },
  {
   "cell_type": "markdown",
   "metadata": {},
   "source": [
    "## Topological features"
   ]
  },
  {
   "cell_type": "code",
   "execution_count": 8,
   "metadata": {},
   "outputs": [],
   "source": [
    "## topological measures: scaled density and internal transitivity\n",
    "#g = readGraph('Data/Football/football')\n",
    "g = readGraph('Data/LFR8916/lfr8916')\n",
    "g = g.simplify()\n",
    "g.vs['ml'] = g.community_multilevel().membership\n",
    "g.vs['im'] = g.community_infomap().membership\n",
    "g.vs['ec'] = g.community_ecg().membership"
   ]
  },
  {
   "cell_type": "code",
   "execution_count": 9,
   "metadata": {},
   "outputs": [],
   "source": [
    "def topo(G, measure='community'):\n",
    "    sd = [] ## scaled density\n",
    "    tr = [] ## internal transitivity\n",
    "    sz = [] ## size\n",
    "    x = G.vs[measure]\n",
    "    for i in range(max(x)+1):\n",
    "        ix = [v for v in G.vs if v[measure]==i]\n",
    "        g = G.subgraph(ix)\n",
    "        sd.append(2*g.ecount()/(g.vcount()-1))\n",
    "        sz.append(g.vcount())\n",
    "        tr.append(sum(g.transitivity_local_undirected(mode='zero'))/g.vcount())\n",
    "    return sd,tr,sz"
   ]
  },
  {
   "cell_type": "code",
   "execution_count": 10,
   "metadata": {},
   "outputs": [],
   "source": [
    "sd, tr, sz = topo(g)\n",
    "sdm, trm, szm = topo(g,'ml')\n",
    "sde, tre, sze = topo(g,'ec')\n",
    "sdi, tri, szi = topo(g,'im')\n",
    "xl = (min(sz+szm+szi+sze)-.1,max(sz+szm+szi+sze)+1)\n"
   ]
  },
  {
   "cell_type": "code",
   "execution_count": 11,
   "metadata": {},
   "outputs": [
    {
     "data": {
      "image/png": "[encoded data removed]",
      "text/plain": [
       "<Figure size 720x576 with 4 Axes>"
      ]
     },
     "metadata": {
      "needs_background": "light"
     },
     "output_type": "display_data"
    }
   ],
   "source": [
    "import matplotlib.pyplot as plt\n",
    "%matplotlib inline\n",
    "fig = plt.figure(1, figsize=(10,8))\n",
    "\n",
    "yl = (min(tr+trm+tri+tre)-.1,max(tr+trm+tri+tre)+.1)\n",
    "\n",
    "plt.subplot(221)\n",
    "plt.semilogx(sz,tr,'o',color='k', alpha=.5)\n",
    "plt.xlim(xl)\n",
    "plt.ylim(yl)\n",
    "plt.ylabel('internal transitivity')\n",
    "plt.title('Ground-truth')\n",
    "\n",
    "plt.subplot(222)\n",
    "plt.semilogx(szm,trm,'o',color='g', alpha=.5)\n",
    "plt.xlim(xl)\n",
    "plt.ylim(yl)\n",
    "plt.title('Louvain')\n",
    "\n",
    "plt.subplot(223)\n",
    "plt.semilogx(sze,tre,'o',color='b', alpha=.5)\n",
    "plt.xlim(xl)\n",
    "plt.ylim(yl)\n",
    "plt.ylabel('internal transitivity')\n",
    "plt.title('ECG')\n",
    "plt.xlabel('community size')\n",
    "\n",
    "plt.subplot(224)\n",
    "plt.semilogx(szi,tri,'o',color='m', alpha=.5)\n",
    "plt.xlim(xl)\n",
    "plt.ylim(yl)\n",
    "plt.title('Infomap')\n",
    "plt.xlabel('community size');\n",
    "#fig.savefig('foot_transitivity.pdf')"
   ]
  },
  {
   "cell_type": "code",
   "execution_count": 12,
   "metadata": {},
   "outputs": [
    {
     "data": {
      "image/png": "[encoded data removed]",
      "text/plain": [
       "<Figure size 720x576 with 4 Axes>"
      ]
     },
     "metadata": {
      "needs_background": "light"
     },
     "output_type": "display_data"
    }
   ],
   "source": [
    "import matplotlib.pyplot as plt\n",
    "%matplotlib inline\n",
    "fig = plt.figure(1, figsize=(10,8))\n",
    "\n",
    "yl = (min(sd+sdm+sdi+sde)-.3,max(sd+sdm+sdi+sde)+.3)\n",
    "\n",
    "plt.subplot(221)\n",
    "plt.semilogx(sz,sd,'o',color='k', alpha=.5)\n",
    "plt.xlim(xl)\n",
    "plt.ylim(yl)\n",
    "plt.ylabel('scaled density')\n",
    "plt.title('Ground-truth')\n",
    "\n",
    "plt.subplot(222)\n",
    "plt.semilogx(szm,sdm,'o',color='g', alpha=.5)\n",
    "plt.xlim(xl)\n",
    "plt.ylim(yl)\n",
    "plt.title('Louvain')\n",
    "\n",
    "plt.subplot(223)\n",
    "plt.semilogx(sze,sde,'o',color='b', alpha=.5)\n",
    "plt.xlim(xl)\n",
    "plt.ylim(yl)\n",
    "plt.ylabel('scaled density')\n",
    "plt.title('ECG')\n",
    "plt.xlabel('community size')\n",
    "\n",
    "plt.subplot(224)\n",
    "plt.semilogx(szi,sdi,'o',color='m', alpha=.5)\n",
    "plt.xlim(xl)\n",
    "plt.ylim(yl)\n",
    "plt.title('Infomap')\n",
    "plt.xlabel('community size');\n",
    "#fig.savefig('foot_density.pdf')"
   ]
  }
 ],
 "metadata": {
  "kernelspec": {
   "display_name": "Python 3.7.4 64-bit ('Anaconda3')",
   "language": "python",
   "name": "python3"
  },
  "language_info": {
   "codemirror_mode": {
    "name": "ipython",
    "version": 3
   },
   "file_extension": ".py",
   "mimetype": "text/x-python",
   "name": "python",
   "nbconvert_exporter": "python",
   "pygments_lexer": "ipython3",
   "version": "3.7.4"
  },
  "vscode": {
   "interpreter": {
    "hash": "f8b40d688a12481f01eadf7380c47edd8a49484a47dba3db091451640e880c68"
   }
  }
 },
 "nbformat": 4,
 "nbformat_minor": 2
}
